{
  "nbformat": 4,
  "nbformat_minor": 0,
  "metadata": {
    "colab": {
      "name": "journey_cal_update",
      "provenance": [],
      "collapsed_sections": []
    },
    "kernelspec": {
      "name": "python3",
      "display_name": "Python 3"
    }
  },
  "cells": [
    {
      "cell_type": "code",
      "metadata": {
        "id": "_0ytKKQPQ5AP",
        "colab_type": "code",
        "outputId": "230881f1-3a9e-42a5-8a5c-0b24fe92f219",
        "colab": {
          "base_uri": "https://localhost:8080/",
          "height": 119
        }
      },
      "source": [
        "import pandas as pd\n",
        "\n",
        "df = pd.read_csv('/content/drive/My Drive/one_journey.csv')\n",
        "df.columns"
      ],
      "execution_count": 0,
      "outputs": [
        {
          "output_type": "execute_result",
          "data": {
            "text/plain": [
              "Index(['_id', 'Timestamp', 'Type_of_mobile', 'MMSI', 'Latitude', 'Longitude',\n",
              "       'Navigational_status', 'ROT', 'COG', 'Heading', 'IMO', 'Callsign',\n",
              "       'Name', 'Ship_type', 'Cargo_type', 'Width', 'Length',\n",
              "       'Type_of_position_fixing_device', 'Draught', 'Destination', 'ETA',\n",
              "       'Data_source_type', 'Size_A', 'Size_B', 'Size_C', 'Size_D'],\n",
              "      dtype='object')"
            ]
          },
          "metadata": {
            "tags": []
          },
          "execution_count": 1
        }
      ]
    },
    {
      "cell_type": "code",
      "metadata": {
        "id": "TxkDrNDKLRHB",
        "colab_type": "code",
        "colab": {}
      },
      "source": [
        ""
      ],
      "execution_count": 0,
      "outputs": []
    },
    {
      "cell_type": "code",
      "metadata": {
        "id": "JmqlCr1KSX1Y",
        "colab_type": "code",
        "outputId": "86b58c93-69dc-439b-b094-cc206ec5cc59",
        "colab": {
          "base_uri": "https://localhost:8080/",
          "height": 394
        }
      },
      "source": [
        "df.head()"
      ],
      "execution_count": 0,
      "outputs": [
        {
          "output_type": "execute_result",
          "data": {
            "text/html": [
              "<div>\n",
              "<style scoped>\n",
              "    .dataframe tbody tr th:only-of-type {\n",
              "        vertical-align: middle;\n",
              "    }\n",
              "\n",
              "    .dataframe tbody tr th {\n",
              "        vertical-align: top;\n",
              "    }\n",
              "\n",
              "    .dataframe thead th {\n",
              "        text-align: right;\n",
              "    }\n",
              "</style>\n",
              "<table border=\"1\" class=\"dataframe\">\n",
              "  <thead>\n",
              "    <tr style=\"text-align: right;\">\n",
              "      <th></th>\n",
              "      <th>_id</th>\n",
              "      <th>Timestamp</th>\n",
              "      <th>Type_of_mobile</th>\n",
              "      <th>MMSI</th>\n",
              "      <th>Latitude</th>\n",
              "      <th>Longitude</th>\n",
              "      <th>Navigational_status</th>\n",
              "      <th>ROT</th>\n",
              "      <th>COG</th>\n",
              "      <th>Heading</th>\n",
              "      <th>IMO</th>\n",
              "      <th>Callsign</th>\n",
              "      <th>Name</th>\n",
              "      <th>Ship_type</th>\n",
              "      <th>Cargo_type</th>\n",
              "      <th>Width</th>\n",
              "      <th>Length</th>\n",
              "      <th>Type_of_position_fixing_device</th>\n",
              "      <th>Draught</th>\n",
              "      <th>Destination</th>\n",
              "      <th>ETA</th>\n",
              "      <th>Data_source_type</th>\n",
              "      <th>Size_A</th>\n",
              "      <th>Size_B</th>\n",
              "      <th>Size_C</th>\n",
              "      <th>Size_D</th>\n",
              "    </tr>\n",
              "  </thead>\n",
              "  <tbody>\n",
              "    <tr>\n",
              "      <th>0</th>\n",
              "      <td>ObjectId(5e8c49d16ba65308bf48a86e)</td>\n",
              "      <td>2018-11-06T13:38:02.000Z</td>\n",
              "      <td>Class A</td>\n",
              "      <td>209336000</td>\n",
              "      <td>56.145188</td>\n",
              "      <td>10.221828</td>\n",
              "      <td>Under way using engine</td>\n",
              "      <td>0.0</td>\n",
              "      <td>331.7</td>\n",
              "      <td>216</td>\n",
              "      <td>9128403</td>\n",
              "      <td>5BAZ5</td>\n",
              "      <td>RIX ALLIANCE</td>\n",
              "      <td>Cargo</td>\n",
              "      <td>No additional information</td>\n",
              "      <td>11.0</td>\n",
              "      <td>88.0</td>\n",
              "      <td>GPS</td>\n",
              "      <td>3.2</td>\n",
              "      <td>FREDERIKSHAVN DK</td>\n",
              "      <td>07/11/2018 20:00:00</td>\n",
              "      <td>AIS</td>\n",
              "      <td>75.0</td>\n",
              "      <td>13.0</td>\n",
              "      <td>5.0</td>\n",
              "      <td>6.0</td>\n",
              "    </tr>\n",
              "    <tr>\n",
              "      <th>1</th>\n",
              "      <td>ObjectId(5e8c49d16ba65308bf48aad5)</td>\n",
              "      <td>2018-11-06T13:38:06.000Z</td>\n",
              "      <td>Class A</td>\n",
              "      <td>209336000</td>\n",
              "      <td>56.145113</td>\n",
              "      <td>10.221905</td>\n",
              "      <td>Under way using engine</td>\n",
              "      <td>0.0</td>\n",
              "      <td>332.3</td>\n",
              "      <td>216</td>\n",
              "      <td>9128403</td>\n",
              "      <td>5BAZ5</td>\n",
              "      <td>RIX ALLIANCE</td>\n",
              "      <td>Cargo</td>\n",
              "      <td>No additional information</td>\n",
              "      <td>11.0</td>\n",
              "      <td>88.0</td>\n",
              "      <td>GPS</td>\n",
              "      <td>3.2</td>\n",
              "      <td>FREDERIKSHAVN DK</td>\n",
              "      <td>07/11/2018 20:00:00</td>\n",
              "      <td>AIS</td>\n",
              "      <td>75.0</td>\n",
              "      <td>13.0</td>\n",
              "      <td>5.0</td>\n",
              "      <td>6.0</td>\n",
              "    </tr>\n",
              "    <tr>\n",
              "      <th>2</th>\n",
              "      <td>ObjectId(5e8c49d16ba65308bf48b0a2)</td>\n",
              "      <td>2018-11-06T13:38:16.000Z</td>\n",
              "      <td>Class A</td>\n",
              "      <td>209336000</td>\n",
              "      <td>56.145057</td>\n",
              "      <td>10.221943</td>\n",
              "      <td>Under way using engine</td>\n",
              "      <td>0.0</td>\n",
              "      <td>334.0</td>\n",
              "      <td>216</td>\n",
              "      <td>9128403</td>\n",
              "      <td>5BAZ5</td>\n",
              "      <td>RIX ALLIANCE</td>\n",
              "      <td>Cargo</td>\n",
              "      <td>No additional information</td>\n",
              "      <td>11.0</td>\n",
              "      <td>88.0</td>\n",
              "      <td>GPS</td>\n",
              "      <td>3.2</td>\n",
              "      <td>FREDERIKSHAVN DK</td>\n",
              "      <td>07/11/2018 20:00:00</td>\n",
              "      <td>AIS</td>\n",
              "      <td>75.0</td>\n",
              "      <td>13.0</td>\n",
              "      <td>5.0</td>\n",
              "      <td>6.0</td>\n",
              "    </tr>\n",
              "    <tr>\n",
              "      <th>3</th>\n",
              "      <td>ObjectId(5e8c49d16ba65308bf48b71a)</td>\n",
              "      <td>2018-11-06T13:38:27.000Z</td>\n",
              "      <td>Class A</td>\n",
              "      <td>209336000</td>\n",
              "      <td>56.145035</td>\n",
              "      <td>10.221960</td>\n",
              "      <td>Under way using engine</td>\n",
              "      <td>0.0</td>\n",
              "      <td>335.0</td>\n",
              "      <td>216</td>\n",
              "      <td>9128403</td>\n",
              "      <td>5BAZ5</td>\n",
              "      <td>RIX ALLIANCE</td>\n",
              "      <td>Cargo</td>\n",
              "      <td>No additional information</td>\n",
              "      <td>11.0</td>\n",
              "      <td>88.0</td>\n",
              "      <td>GPS</td>\n",
              "      <td>3.2</td>\n",
              "      <td>FREDERIKSHAVN DK</td>\n",
              "      <td>07/11/2018 20:00:00</td>\n",
              "      <td>AIS</td>\n",
              "      <td>75.0</td>\n",
              "      <td>13.0</td>\n",
              "      <td>5.0</td>\n",
              "      <td>6.0</td>\n",
              "    </tr>\n",
              "    <tr>\n",
              "      <th>4</th>\n",
              "      <td>ObjectId(5e8c49d16ba65308bf48bcc2)</td>\n",
              "      <td>2018-11-06T13:38:37.000Z</td>\n",
              "      <td>Class A</td>\n",
              "      <td>209336000</td>\n",
              "      <td>56.145028</td>\n",
              "      <td>10.221973</td>\n",
              "      <td>Under way using engine</td>\n",
              "      <td>0.0</td>\n",
              "      <td>335.0</td>\n",
              "      <td>216</td>\n",
              "      <td>9128403</td>\n",
              "      <td>5BAZ5</td>\n",
              "      <td>RIX ALLIANCE</td>\n",
              "      <td>Cargo</td>\n",
              "      <td>No additional information</td>\n",
              "      <td>11.0</td>\n",
              "      <td>88.0</td>\n",
              "      <td>GPS</td>\n",
              "      <td>3.2</td>\n",
              "      <td>FREDERIKSHAVN DK</td>\n",
              "      <td>07/11/2018 20:00:00</td>\n",
              "      <td>AIS</td>\n",
              "      <td>75.0</td>\n",
              "      <td>13.0</td>\n",
              "      <td>5.0</td>\n",
              "      <td>6.0</td>\n",
              "    </tr>\n",
              "  </tbody>\n",
              "</table>\n",
              "</div>"
            ],
            "text/plain": [
              "                                  _id                 Timestamp  ... Size_C  Size_D\n",
              "0  ObjectId(5e8c49d16ba65308bf48a86e)  2018-11-06T13:38:02.000Z  ...    5.0     6.0\n",
              "1  ObjectId(5e8c49d16ba65308bf48aad5)  2018-11-06T13:38:06.000Z  ...    5.0     6.0\n",
              "2  ObjectId(5e8c49d16ba65308bf48b0a2)  2018-11-06T13:38:16.000Z  ...    5.0     6.0\n",
              "3  ObjectId(5e8c49d16ba65308bf48b71a)  2018-11-06T13:38:27.000Z  ...    5.0     6.0\n",
              "4  ObjectId(5e8c49d16ba65308bf48bcc2)  2018-11-06T13:38:37.000Z  ...    5.0     6.0\n",
              "\n",
              "[5 rows x 26 columns]"
            ]
          },
          "metadata": {
            "tags": []
          },
          "execution_count": 2
        }
      ]
    },
    {
      "cell_type": "code",
      "metadata": {
        "id": "hDUNEUoaVEyo",
        "colab_type": "code",
        "outputId": "05d6cf0f-a879-4d7e-d93a-879dab2d317a",
        "colab": {
          "base_uri": "https://localhost:8080/",
          "height": 204
        }
      },
      "source": [
        "df[['_id', 'Timestamp', 'Latitude', 'Longitude']].head()\n"
      ],
      "execution_count": 0,
      "outputs": [
        {
          "output_type": "execute_result",
          "data": {
            "text/html": [
              "<div>\n",
              "<style scoped>\n",
              "    .dataframe tbody tr th:only-of-type {\n",
              "        vertical-align: middle;\n",
              "    }\n",
              "\n",
              "    .dataframe tbody tr th {\n",
              "        vertical-align: top;\n",
              "    }\n",
              "\n",
              "    .dataframe thead th {\n",
              "        text-align: right;\n",
              "    }\n",
              "</style>\n",
              "<table border=\"1\" class=\"dataframe\">\n",
              "  <thead>\n",
              "    <tr style=\"text-align: right;\">\n",
              "      <th></th>\n",
              "      <th>_id</th>\n",
              "      <th>Timestamp</th>\n",
              "      <th>Latitude</th>\n",
              "      <th>Longitude</th>\n",
              "    </tr>\n",
              "  </thead>\n",
              "  <tbody>\n",
              "    <tr>\n",
              "      <th>0</th>\n",
              "      <td>ObjectId(5e8c49d16ba65308bf48a86e)</td>\n",
              "      <td>2018-11-06T13:38:02.000Z</td>\n",
              "      <td>56.145188</td>\n",
              "      <td>10.221828</td>\n",
              "    </tr>\n",
              "    <tr>\n",
              "      <th>1</th>\n",
              "      <td>ObjectId(5e8c49d16ba65308bf48aad5)</td>\n",
              "      <td>2018-11-06T13:38:06.000Z</td>\n",
              "      <td>56.145113</td>\n",
              "      <td>10.221905</td>\n",
              "    </tr>\n",
              "    <tr>\n",
              "      <th>2</th>\n",
              "      <td>ObjectId(5e8c49d16ba65308bf48b0a2)</td>\n",
              "      <td>2018-11-06T13:38:16.000Z</td>\n",
              "      <td>56.145057</td>\n",
              "      <td>10.221943</td>\n",
              "    </tr>\n",
              "    <tr>\n",
              "      <th>3</th>\n",
              "      <td>ObjectId(5e8c49d16ba65308bf48b71a)</td>\n",
              "      <td>2018-11-06T13:38:27.000Z</td>\n",
              "      <td>56.145035</td>\n",
              "      <td>10.221960</td>\n",
              "    </tr>\n",
              "    <tr>\n",
              "      <th>4</th>\n",
              "      <td>ObjectId(5e8c49d16ba65308bf48bcc2)</td>\n",
              "      <td>2018-11-06T13:38:37.000Z</td>\n",
              "      <td>56.145028</td>\n",
              "      <td>10.221973</td>\n",
              "    </tr>\n",
              "  </tbody>\n",
              "</table>\n",
              "</div>"
            ],
            "text/plain": [
              "                                  _id  ...  Longitude\n",
              "0  ObjectId(5e8c49d16ba65308bf48a86e)  ...  10.221828\n",
              "1  ObjectId(5e8c49d16ba65308bf48aad5)  ...  10.221905\n",
              "2  ObjectId(5e8c49d16ba65308bf48b0a2)  ...  10.221943\n",
              "3  ObjectId(5e8c49d16ba65308bf48b71a)  ...  10.221960\n",
              "4  ObjectId(5e8c49d16ba65308bf48bcc2)  ...  10.221973\n",
              "\n",
              "[5 rows x 4 columns]"
            ]
          },
          "metadata": {
            "tags": []
          },
          "execution_count": 3
        }
      ]
    },
    {
      "cell_type": "code",
      "metadata": {
        "id": "vDIjBSVuVhp7",
        "colab_type": "code",
        "outputId": "19275c50-1b48-4983-a562-38cc93a35ef3",
        "colab": {
          "base_uri": "https://localhost:8080/",
          "height": 265
        }
      },
      "source": [
        "import matplotlib.pyplot as plt\n",
        "y = list(df['Latitude'])\n",
        "x = list(df['Longitude'])\n",
        "fig = plt.figure()\n",
        "\n",
        "plt.scatter(x, y)\n",
        "plt.show()"
      ],
      "execution_count": 0,
      "outputs": [
        {
          "output_type": "display_data",
          "data": {
            "image/png": "[encoded data removed]",
            "text/plain": [
              "<Figure size 432x288 with 1 Axes>"
            ]
          },
          "metadata": {
            "tags": [],
            "needs_background": "light"
          }
        }
      ]
    },
    {
      "cell_type": "code",
      "metadata": {
        "id": "G59f39iwWNWW",
        "colab_type": "code",
        "outputId": "8f832572-a393-4399-b58c-01c2d224dd36",
        "colab": {
          "base_uri": "https://localhost:8080/",
          "height": 34
        }
      },
      "source": [
        "current_lat , current_lon = df['Latitude'].loc[1000]+0.01, df['Longitude'].loc[1000]+0.01\n",
        "current_lat, current_lon"
      ],
      "execution_count": 0,
      "outputs": [
        {
          "output_type": "execute_result",
          "data": {
            "text/plain": [
              "(56.059888, 10.701157)"
            ]
          },
          "metadata": {
            "tags": []
          },
          "execution_count": 5
        }
      ]
    },
    {
      "cell_type": "code",
      "metadata": {
        "id": "HDXo9yJqWW9X",
        "colab_type": "code",
        "outputId": "68c0b4f5-1e9b-4de8-ee96-5998373cf52c",
        "colab": {
          "base_uri": "https://localhost:8080/",
          "height": 265
        }
      },
      "source": [
        "fig = plt.figure()\n",
        "plt.plot( current_lon , current_lat,marker=\"o\", color = 'r')\n",
        "plt.scatter(x, y, marker='^')\n",
        "plt.show()"
      ],
      "execution_count": 0,
      "outputs": [
        {
          "output_type": "display_data",
          "data": {
            "image/png": "[encoded data removed]",
            "text/plain": [
              "<Figure size 432x288 with 1 Axes>"
            ]
          },
          "metadata": {
            "tags": [],
            "needs_background": "light"
          }
        }
      ]
    },
    {
      "cell_type": "code",
      "metadata": {
        "id": "mUdR4kK1WkxG",
        "colab_type": "code",
        "outputId": "e68be451-69f1-447a-af3f-f99ddc4e31ed",
        "colab": {
          "base_uri": "https://localhost:8080/",
          "height": 561
        }
      },
      "source": [
        "from math import radians, sin, cos, acos\n",
        "global counter\n",
        "counter = 0\n",
        "last = df.shape[0]\n",
        "\n",
        "first = 0\n",
        "#pos= [[c1], [c2]]\n",
        "pos=[[999, 999],[999, 999]]\n",
        "def calculate_distance(Lon1, Lat1, Lon2, Lat2):\n",
        "    lon1 = radians(Lon1)\n",
        "    lat1 = radians(Lat1)\n",
        "    lon2 = radians(Lon2)\n",
        "    lat2 = radians(Lat2)\n",
        "    dist = 6371.0000 * acos(sin(lat1)*sin(lat2) + cos(lat1)*cos(lat2)*cos(lon1 - lon2))\n",
        "    return dist\n",
        "loc_x1 = 555\n",
        "loc_x2 = 555\n",
        "\n",
        "#pos= [[c1], [c2]]\n",
        "pos=[[999, 999],[999, 999]]\n",
        "\n",
        "counter = 0\n",
        "\n",
        "def check_condition(x, y):\n",
        "    global counter\n",
        "\n",
        "    if pos[counter][0] == x and pos[counter][1] == y:\n",
        "        return False\n",
        "    else:\n",
        "        pos[counter][0] = x\n",
        "        pos[counter][1] = y\n",
        "        if counter == 1:\n",
        "            counter = 0\n",
        "        else:\n",
        "            counter=1\n",
        "        return True\n",
        "    \n",
        "    #binary search it's efficient\n",
        "while check_condition(loc_x1, loc_x2):\n",
        "    # search for median\n",
        "    mid = (int)((last + first) / 2)\n",
        "    p_distance = calculate_distance(df['Longitude'].loc[0], df['Latitude'].loc[0], current_lon, current_lat)\n",
        "    m_distance = calculate_distance(df['Longitude'].loc[0], df['Latitude'].loc[0], df['Longitude'].loc[mid], df['Latitude'].loc[mid])\n",
        "    print(\"distance to point:\", p_distance, \"distance to median:\", m_distance)\n",
        "    if p_distance > m_distance:\n",
        "        print(\"point - 1\")\n",
        "        first = mid\n",
        "        loc_x1 = df['Longitude'].loc[mid]\n",
        "        loc_x2 = df['Latitude'].loc[mid]\n",
        "    elif p_distance < m_distance:\n",
        "        print(\"point - 2\")\n",
        "        last = mid\n",
        "        loc_x1 = df['Longitude'].loc[mid]\n",
        "        loc_x2 = df['Latitude'].loc[mid]\n",
        "        \n",
        "print(\"nearest point:\", loc_x1, loc_x2)\n",
        "print(\"index:\", mid)"
      ],
      "execution_count": 0,
      "outputs": [
        {
          "output_type": "stream",
          "text": [
            "distance to point: 31.201775022326913 distance to median: 75.38189099258177\n",
            "point - 2\n",
            "distance to point: 31.201775022326913 distance to median: 48.4565381008451\n",
            "point - 2\n",
            "distance to point: 31.201775022326913 distance to median: 22.42011329560793\n",
            "point - 1\n",
            "distance to point: 31.201775022326913 distance to median: 38.10875315423173\n",
            "point - 2\n",
            "distance to point: 31.201775022326913 distance to median: 29.694713292108336\n",
            "point - 1\n",
            "distance to point: 31.201775022326913 distance to median: 33.91524183189642\n",
            "point - 2\n",
            "distance to point: 31.201775022326913 distance to median: 31.734713955280295\n",
            "point - 2\n",
            "distance to point: 31.201775022326913 distance to median: 30.644986131759346\n",
            "point - 1\n",
            "distance to point: 31.201775022326913 distance to median: 31.167644048933056\n",
            "point - 1\n",
            "distance to point: 31.201775022326913 distance to median: 31.452596858639378\n",
            "point - 2\n",
            "distance to point: 31.201775022326913 distance to median: 31.309570772411597\n",
            "point - 2\n",
            "distance to point: 31.201775022326913 distance to median: 31.215183341260996\n",
            "point - 2\n",
            "distance to point: 31.201775022326913 distance to median: 31.167644048933056\n",
            "point - 1\n",
            "distance to point: 31.201775022326913 distance to median: 31.167644048933056\n",
            "point - 1\n",
            "distance to point: 31.201775022326913 distance to median: 31.167644048933056\n",
            "point - 1\n",
            "nearest point: 10.694238 56.049618\n",
            "index: 1004\n"
          ],
          "name": "stdout"
        }
      ]
    },
    {
      "cell_type": "code",
      "metadata": {
        "id": "eRhIX6a0XKnK",
        "colab_type": "code",
        "outputId": "9863ec67-4b6a-4af1-a467-8a6ec53f821b",
        "colab": {
          "base_uri": "https://localhost:8080/",
          "height": 265
        }
      },
      "source": [
        "fig = plt.figure()\n",
        "plt.plot( current_lon , current_lat,marker=\"o\", color = 'r')\n",
        "plt.plot(df['Longitude'].loc[mid], df['Latitude'].loc[mid],  marker=\"h\", color=\"k\")\n",
        "plt.plot(df['Longitude'].loc[mid+1],df['Latitude'].loc[mid+1],  marker=\"D\", color=\"k\")\n",
        "plt.scatter(x, y, marker='^', color=\"c\")\n",
        "plt.show()"
      ],
      "execution_count": 0,
      "outputs": [
        {
          "output_type": "display_data",
          "data": {
            "image/png": "[encoded data removed]",
            "text/plain": [
              "<Figure size 432x288 with 1 Axes>"
            ]
          },
          "metadata": {
            "tags": [],
            "needs_background": "light"
          }
        }
      ]
    },
    {
      "cell_type": "code",
      "metadata": {
        "id": "rc5DJwnVYWQ2",
        "colab_type": "code",
        "outputId": "70564f50-19ce-4060-bd9d-5c05868cf846",
        "colab": {
          "base_uri": "https://localhost:8080/",
          "height": 34
        }
      },
      "source": [
        "current_lat, current_lon"
      ],
      "execution_count": 0,
      "outputs": [
        {
          "output_type": "execute_result",
          "data": {
            "text/plain": [
              "(56.059888, 10.701157)"
            ]
          },
          "metadata": {
            "tags": []
          },
          "execution_count": 9
        }
      ]
    },
    {
      "cell_type": "code",
      "metadata": {
        "id": "PPw9YS9IYhbh",
        "colab_type": "code",
        "outputId": "edd8ae45-ad1d-4677-cfe1-197aee92654f",
        "colab": {
          "base_uri": "https://localhost:8080/",
          "height": 34
        }
      },
      "source": [
        "  df['Longitude'].loc[mid], df['Latitude'].loc[mid]"
      ],
      "execution_count": 0,
      "outputs": [
        {
          "output_type": "execute_result",
          "data": {
            "text/plain": [
              "(10.694238, 56.049618)"
            ]
          },
          "metadata": {
            "tags": []
          },
          "execution_count": 10
        }
      ]
    },
    {
      "cell_type": "code",
      "metadata": {
        "id": "YLLKSSniYuui",
        "colab_type": "code",
        "outputId": "7a48550e-aac6-42d0-d3c4-0e87e557dd61",
        "colab": {
          "base_uri": "https://localhost:8080/",
          "height": 153
        }
      },
      "source": [
        "#add here the buffer code to cope up with inaccuracies calculate_distance( df['Longitude'].loc[mid], df['Latitude'].loc[mid], current_lon, current_lat)\n",
        "distance2 = calculate_distance(df['Longitude'].loc[mid+1], df['Latitude'].loc[mid+1], current_lon, current_lat)\n",
        "distance1 = calculate_distance(df['Longitude'].loc[mid], df['Latitude'].loc[mid], current_lon, current_lat)\n",
        "\n",
        "incr = 0\n",
        "while distance1 > distance2:\n",
        "  \n",
        "  print(\"d1:\", distance1*1000000, \"d2:\", distance2*1000000)\n",
        "  distance1 = calculate_distance( df['Longitude'].loc[mid+incr], df['Latitude'].loc[mid+incr], current_lon, current_lat)\n",
        "  distance2 = calculate_distance( df['Longitude'].loc[mid+1+incr], df['Latitude'].loc[mid+1+incr], current_lon, current_lat)\n",
        "  distance1 = distance1*1000000\n",
        "  distance2 = distance2*1000000\n",
        "  incr += 1\n",
        "\n",
        "print(incr, mid)\n",
        "df['Longitude'].loc[mid+incr], df['Latitude'].loc[mid+incr]"
      ],
      "execution_count": 0,
      "outputs": [
        {
          "output_type": "stream",
          "text": [
            "d1: 1220108.2998939634 d2: 1211029.068419788\n",
            "d1: 1220108299893.9634 d2: 1211029068419.788\n",
            "d1: 1211029068419.788 d2: 1203563949746.613\n",
            "d1: 1203563949746.613 d2: 1198741543312.1548\n",
            "d1: 1198741543312.1548 d2: 1195907999019.4954\n",
            "d1: 1195907999019.4954 d2: 1195606788284.1716\n",
            "6 1004\n"
          ],
          "name": "stdout"
        },
        {
          "output_type": "execute_result",
          "data": {
            "text/plain": [
              "(10.698852, 56.049203000000006)"
            ]
          },
          "metadata": {
            "tags": []
          },
          "execution_count": 11
        }
      ]
    },
    {
      "cell_type": "code",
      "metadata": {
        "id": "wLiQDNQFhA84",
        "colab_type": "code",
        "outputId": "ba049302-3f4f-43fd-d47d-52b4923ee0ee",
        "colab": {
          "base_uri": "https://localhost:8080/",
          "height": 34
        }
      },
      "source": [
        "calculate_distance( df['Longitude'].loc[mid], df['Latitude'].loc[mid], current_lon, current_lat)*1000000"
      ],
      "execution_count": 0,
      "outputs": [
        {
          "output_type": "execute_result",
          "data": {
            "text/plain": [
              "1220108.2998939634"
            ]
          },
          "metadata": {
            "tags": []
          },
          "execution_count": 12
        }
      ]
    },
    {
      "cell_type": "code",
      "metadata": {
        "id": "6OBypkN5hbug",
        "colab_type": "code",
        "outputId": "14d474c2-30aa-4c55-d43f-53e837745e8d",
        "colab": {
          "base_uri": "https://localhost:8080/",
          "height": 34
        }
      },
      "source": [
        "calculate_distance( df['Longitude'].loc[mid+incr], df['Latitude'].loc[mid+incr], current_lon, current_lat)*1000000"
      ],
      "execution_count": 0,
      "outputs": [
        {
          "output_type": "execute_result",
          "data": {
            "text/plain": [
              "1196706.967109675"
            ]
          },
          "metadata": {
            "tags": []
          },
          "execution_count": 13
        }
      ]
    },
    {
      "cell_type": "code",
      "metadata": {
        "id": "syOc4ci_hl7O",
        "colab_type": "code",
        "outputId": "609467fc-f04b-4931-c873-0d2c3572daa4",
        "colab": {
          "base_uri": "https://localhost:8080/",
          "height": 34
        }
      },
      "source": [
        "#choose point mid+incr-1 for the nearest point as the incr variable increments as we jump out of the loop\n",
        "calculate_distance( df['Longitude'].loc[mid+incr-1], df['Latitude'].loc[mid+incr-1], current_lon, current_lat)*1000000"
      ],
      "execution_count": 0,
      "outputs": [
        {
          "output_type": "execute_result",
          "data": {
            "text/plain": [
              "1195606.7882841716"
            ]
          },
          "metadata": {
            "tags": []
          },
          "execution_count": 14
        }
      ]
    },
    {
      "cell_type": "code",
      "metadata": {
        "id": "5_IYf7X6kM9r",
        "colab_type": "code",
        "outputId": "0d4539da-7596-4a80-bb1b-78de3f5c06e9",
        "colab": {
          "base_uri": "https://localhost:8080/",
          "height": 265
        }
      },
      "source": [
        "fig = plt.figure()\n",
        "plt.plot( current_lon , current_lat,marker=\"o\", color = 'r')\n",
        "plt.plot(df['Longitude'].loc[mid+incr-1], df['Latitude'].loc[mid+incr-1],  marker=\"h\", color=\"k\")\n",
        "plt.plot(df['Longitude'].loc[mid+incr-1],df['Latitude'].loc[mid+incr-1],  marker=\"D\", color=\"k\")\n",
        "plt.scatter(x, y, marker='^', color=\"c\")\n",
        "plt.show()"
      ],
      "execution_count": 0,
      "outputs": [
        {
          "output_type": "display_data",
          "data": {
            "image/png": "[encoded data removed]",
            "text/plain": [
              "<Figure size 432x288 with 1 Axes>"
            ]
          },
          "metadata": {
            "tags": [],
            "needs_background": "light"
          }
        }
      ]
    },
    {
      "cell_type": "code",
      "metadata": {
        "id": "kNlr88Plkv0m",
        "colab_type": "code",
        "outputId": "6e52733e-1637-4a33-892c-6b87857a1fd8",
        "colab": {
          "base_uri": "https://localhost:8080/",
          "height": 85
        }
      },
      "source": [
        "from math import radians, sin, cos, acos\n",
        "\n",
        "def calculate_distance1(Lon1, Lat1, Lon2, Lat2):\n",
        "    \n",
        "    lon1 = radians(Lon1)\n",
        "    lat1 = radians(Lat1)\n",
        "    \n",
        "    lon2 = radians(Lon2)\n",
        "    lat2 = radians(Lat2)\n",
        "   \n",
        "    dist = 6371.01 * acos(sin(lat1)*sin(lat2) + cos(lat1)*cos(lat2)*cos(lon1 - lon2))\n",
        "    \n",
        "    return dist\n",
        "\n",
        "total_distance =0.0\n",
        "print(x[44], y[44])\n",
        "for i in range(0, len(x)-1):\n",
        "    if x[i] != x[i+1] and y[i] != y[i+1]:\n",
        "      #they both cant be same if they are same then it will show error while calculating the distance\n",
        "      total_distance += calculate_distance1(x[i], y[i], x[i+1], y[i+1])\n",
        "\n",
        "print()\n",
        "distance_travelled = 0.0\n",
        "for i in range(0, mid):\n",
        "    if x[i] != x[i+1] and y[i] != y[i+1]:\n",
        "      distance_travelled += calculate_distance1(x[i], y[i], x[i+1], y[i+1])\n",
        "print(distance_travelled, total_distance)\n",
        "print((distance_travelled/total_distance)*100, \"%\")"
      ],
      "execution_count": 0,
      "outputs": [
        {
          "output_type": "stream",
          "text": [
            "10.221793 56.144955\n",
            "\n",
            "33.330718222399256 221.96255209120224\n",
            "15.01637006259686 %\n"
          ],
          "name": "stdout"
        }
      ]
    },
    {
      "cell_type": "code",
      "metadata": {
        "id": "DU2-0eibpkc6",
        "colab_type": "code",
        "outputId": "be5f55c4-94df-4a99-93a8-9ab393a88586",
        "colab": {
          "base_uri": "https://localhost:8080/",
          "height": 394
        }
      },
      "source": [
        "df.head()"
      ],
      "execution_count": 0,
      "outputs": [
        {
          "output_type": "execute_result",
          "data": {
            "text/html": [
              "<div>\n",
              "<style scoped>\n",
              "    .dataframe tbody tr th:only-of-type {\n",
              "        vertical-align: middle;\n",
              "    }\n",
              "\n",
              "    .dataframe tbody tr th {\n",
              "        vertical-align: top;\n",
              "    }\n",
              "\n",
              "    .dataframe thead th {\n",
              "        text-align: right;\n",
              "    }\n",
              "</style>\n",
              "<table border=\"1\" class=\"dataframe\">\n",
              "  <thead>\n",
              "    <tr style=\"text-align: right;\">\n",
              "      <th></th>\n",
              "      <th>_id</th>\n",
              "      <th>Timestamp</th>\n",
              "      <th>Type_of_mobile</th>\n",
              "      <th>MMSI</th>\n",
              "      <th>Latitude</th>\n",
              "      <th>Longitude</th>\n",
              "      <th>Navigational_status</th>\n",
              "      <th>ROT</th>\n",
              "      <th>COG</th>\n",
              "      <th>Heading</th>\n",
              "      <th>IMO</th>\n",
              "      <th>Callsign</th>\n",
              "      <th>Name</th>\n",
              "      <th>Ship_type</th>\n",
              "      <th>Cargo_type</th>\n",
              "      <th>Width</th>\n",
              "      <th>Length</th>\n",
              "      <th>Type_of_position_fixing_device</th>\n",
              "      <th>Draught</th>\n",
              "      <th>Destination</th>\n",
              "      <th>ETA</th>\n",
              "      <th>Data_source_type</th>\n",
              "      <th>Size_A</th>\n",
              "      <th>Size_B</th>\n",
              "      <th>Size_C</th>\n",
              "      <th>Size_D</th>\n",
              "    </tr>\n",
              "  </thead>\n",
              "  <tbody>\n",
              "    <tr>\n",
              "      <th>0</th>\n",
              "      <td>ObjectId(5e8c49d16ba65308bf48a86e)</td>\n",
              "      <td>2018-11-06T13:38:02.000Z</td>\n",
              "      <td>Class A</td>\n",
              "      <td>209336000</td>\n",
              "      <td>56.145188</td>\n",
              "      <td>10.221828</td>\n",
              "      <td>Under way using engine</td>\n",
              "      <td>0.0</td>\n",
              "      <td>331.7</td>\n",
              "      <td>216</td>\n",
              "      <td>9128403</td>\n",
              "      <td>5BAZ5</td>\n",
              "      <td>RIX ALLIANCE</td>\n",
              "      <td>Cargo</td>\n",
              "      <td>No additional information</td>\n",
              "      <td>11.0</td>\n",
              "      <td>88.0</td>\n",
              "      <td>GPS</td>\n",
              "      <td>3.2</td>\n",
              "      <td>FREDERIKSHAVN DK</td>\n",
              "      <td>07/11/2018 20:00:00</td>\n",
              "      <td>AIS</td>\n",
              "      <td>75.0</td>\n",
              "      <td>13.0</td>\n",
              "      <td>5.0</td>\n",
              "      <td>6.0</td>\n",
              "    </tr>\n",
              "    <tr>\n",
              "      <th>1</th>\n",
              "      <td>ObjectId(5e8c49d16ba65308bf48aad5)</td>\n",
              "      <td>2018-11-06T13:38:06.000Z</td>\n",
              "      <td>Class A</td>\n",
              "      <td>209336000</td>\n",
              "      <td>56.145113</td>\n",
              "      <td>10.221905</td>\n",
              "      <td>Under way using engine</td>\n",
              "      <td>0.0</td>\n",
              "      <td>332.3</td>\n",
              "      <td>216</td>\n",
              "      <td>9128403</td>\n",
              "      <td>5BAZ5</td>\n",
              "      <td>RIX ALLIANCE</td>\n",
              "      <td>Cargo</td>\n",
              "      <td>No additional information</td>\n",
              "      <td>11.0</td>\n",
              "      <td>88.0</td>\n",
              "      <td>GPS</td>\n",
              "      <td>3.2</td>\n",
              "      <td>FREDERIKSHAVN DK</td>\n",
              "      <td>07/11/2018 20:00:00</td>\n",
              "      <td>AIS</td>\n",
              "      <td>75.0</td>\n",
              "      <td>13.0</td>\n",
              "      <td>5.0</td>\n",
              "      <td>6.0</td>\n",
              "    </tr>\n",
              "    <tr>\n",
              "      <th>2</th>\n",
              "      <td>ObjectId(5e8c49d16ba65308bf48b0a2)</td>\n",
              "      <td>2018-11-06T13:38:16.000Z</td>\n",
              "      <td>Class A</td>\n",
              "      <td>209336000</td>\n",
              "      <td>56.145057</td>\n",
              "      <td>10.221943</td>\n",
              "      <td>Under way using engine</td>\n",
              "      <td>0.0</td>\n",
              "      <td>334.0</td>\n",
              "      <td>216</td>\n",
              "      <td>9128403</td>\n",
              "      <td>5BAZ5</td>\n",
              "      <td>RIX ALLIANCE</td>\n",
              "      <td>Cargo</td>\n",
              "      <td>No additional information</td>\n",
              "      <td>11.0</td>\n",
              "      <td>88.0</td>\n",
              "      <td>GPS</td>\n",
              "      <td>3.2</td>\n",
              "      <td>FREDERIKSHAVN DK</td>\n",
              "      <td>07/11/2018 20:00:00</td>\n",
              "      <td>AIS</td>\n",
              "      <td>75.0</td>\n",
              "      <td>13.0</td>\n",
              "      <td>5.0</td>\n",
              "      <td>6.0</td>\n",
              "    </tr>\n",
              "    <tr>\n",
              "      <th>3</th>\n",
              "      <td>ObjectId(5e8c49d16ba65308bf48b71a)</td>\n",
              "      <td>2018-11-06T13:38:27.000Z</td>\n",
              "      <td>Class A</td>\n",
              "      <td>209336000</td>\n",
              "      <td>56.145035</td>\n",
              "      <td>10.221960</td>\n",
              "      <td>Under way using engine</td>\n",
              "      <td>0.0</td>\n",
              "      <td>335.0</td>\n",
              "      <td>216</td>\n",
              "      <td>9128403</td>\n",
              "      <td>5BAZ5</td>\n",
              "      <td>RIX ALLIANCE</td>\n",
              "      <td>Cargo</td>\n",
              "      <td>No additional information</td>\n",
              "      <td>11.0</td>\n",
              "      <td>88.0</td>\n",
              "      <td>GPS</td>\n",
              "      <td>3.2</td>\n",
              "      <td>FREDERIKSHAVN DK</td>\n",
              "      <td>07/11/2018 20:00:00</td>\n",
              "      <td>AIS</td>\n",
              "      <td>75.0</td>\n",
              "      <td>13.0</td>\n",
              "      <td>5.0</td>\n",
              "      <td>6.0</td>\n",
              "    </tr>\n",
              "    <tr>\n",
              "      <th>4</th>\n",
              "      <td>ObjectId(5e8c49d16ba65308bf48bcc2)</td>\n",
              "      <td>2018-11-06T13:38:37.000Z</td>\n",
              "      <td>Class A</td>\n",
              "      <td>209336000</td>\n",
              "      <td>56.145028</td>\n",
              "      <td>10.221973</td>\n",
              "      <td>Under way using engine</td>\n",
              "      <td>0.0</td>\n",
              "      <td>335.0</td>\n",
              "      <td>216</td>\n",
              "      <td>9128403</td>\n",
              "      <td>5BAZ5</td>\n",
              "      <td>RIX ALLIANCE</td>\n",
              "      <td>Cargo</td>\n",
              "      <td>No additional information</td>\n",
              "      <td>11.0</td>\n",
              "      <td>88.0</td>\n",
              "      <td>GPS</td>\n",
              "      <td>3.2</td>\n",
              "      <td>FREDERIKSHAVN DK</td>\n",
              "      <td>07/11/2018 20:00:00</td>\n",
              "      <td>AIS</td>\n",
              "      <td>75.0</td>\n",
              "      <td>13.0</td>\n",
              "      <td>5.0</td>\n",
              "      <td>6.0</td>\n",
              "    </tr>\n",
              "  </tbody>\n",
              "</table>\n",
              "</div>"
            ],
            "text/plain": [
              "                                  _id                 Timestamp  ... Size_C  Size_D\n",
              "0  ObjectId(5e8c49d16ba65308bf48a86e)  2018-11-06T13:38:02.000Z  ...    5.0     6.0\n",
              "1  ObjectId(5e8c49d16ba65308bf48aad5)  2018-11-06T13:38:06.000Z  ...    5.0     6.0\n",
              "2  ObjectId(5e8c49d16ba65308bf48b0a2)  2018-11-06T13:38:16.000Z  ...    5.0     6.0\n",
              "3  ObjectId(5e8c49d16ba65308bf48b71a)  2018-11-06T13:38:27.000Z  ...    5.0     6.0\n",
              "4  ObjectId(5e8c49d16ba65308bf48bcc2)  2018-11-06T13:38:37.000Z  ...    5.0     6.0\n",
              "\n",
              "[5 rows x 26 columns]"
            ]
          },
          "metadata": {
            "tags": []
          },
          "execution_count": 25
        }
      ]
    }
  ]
}